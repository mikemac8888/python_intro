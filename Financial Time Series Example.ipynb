{
 "cells": [
  {
   "cell_type": "code",
   "execution_count": null,
   "metadata": {
    "collapsed": true
   },
   "outputs": [],
   "source": [
    "%matplotlib inline\n",
    "import pandas as pd\n",
    "from pandas_datareader import data\n",
    "stock_index = data.get_data_yahoo('^GSPC', start=pd.Timestamp('1900-01-01'))"
   ]
  },
  {
   "cell_type": "markdown",
   "metadata": {
    "collapsed": true
   },
   "source": [
    "### Financial time series example using `groupby()`"
   ]
  },
  {
   "cell_type": "code",
   "execution_count": null,
   "metadata": {
    "collapsed": true
   },
   "outputs": [],
   "source": [
    "%matplotlib inline\n",
    "import pandas as pd\n",
    "spx = pd.read_csv('spx.csv', index_col=['Date'])\n",
    "spx.loc[:,'ma_200d'] = spx.Close.rolling(window=200).mean()\n",
    "spx = spx.dropna()\n",
    "spx.loc[:,'is_above_ma_200'] = spx.Close > spx.ma_200d\n",
    "spx.loc[:,'return_1d'] = spx.Close.pct_change()\n",
    "spx.groupby('is_above_ma_200').return_1d.mean()"
   ]
  },
  {
   "cell_type": "markdown",
   "metadata": {},
   "source": [
    "### Reading excel example"
   ]
  },
  {
   "cell_type": "code",
   "execution_count": null,
   "metadata": {
    "collapsed": true
   },
   "outputs": [],
   "source": [
    "spread = pd.read_excel('BAMLH0A0HYM2.xls',\n",
    "              header=10, \n",
    "              index_col='observation_date')\n",
    "spread.plot()"
   ]
  }
 ],
 "metadata": {
  "anaconda-cloud": {},
  "kernelspec": {
   "display_name": "Python [conda root]",
   "language": "python",
   "name": "conda-root-py"
  },
  "language_info": {
   "codemirror_mode": {
    "name": "ipython",
    "version": 3
   },
   "file_extension": ".py",
   "mimetype": "text/x-python",
   "name": "python",
   "nbconvert_exporter": "python",
   "pygments_lexer": "ipython3",
   "version": "3.5.2"
  }
 },
 "nbformat": 4,
 "nbformat_minor": 1
}
